{
  "nbformat": 4,
  "nbformat_minor": 0,
  "metadata": {
    "colab": {
      "provenance": []
    },
    "kernelspec": {
      "name": "python3",
      "display_name": "Python 3"
    },
    "language_info": {
      "name": "python"
    }
  },
  "cells": [
    {
      "cell_type": "code",
      "execution_count": null,
      "metadata": {
        "colab": {
          "base_uri": "https://localhost:8080/"
        },
        "id": "PiQyNoK_CZ10",
        "outputId": "f2740ed4-36fd-4e23-8651-b72a161018f3"
      },
      "outputs": [
        {
          "output_type": "stream",
          "name": "stdout",
          "text": [
            "                           Specific Bean Origin\\nor Bar Name   REF  \\\n",
            "Company \\n(Maker-if known)                                           \n",
            "A. Morin                                         Agua Grande  1876   \n",
            "A. Morin                                               Kpime  1676   \n",
            "A. Morin                                              Atsane  1676   \n",
            "A. Morin                                               Akata  1680   \n",
            "A. Morin                                              Quilla  1704   \n",
            "...                                                      ...   ...   \n",
            "Zotter                                                  Peru   647   \n",
            "Zotter                                                 Congo   749   \n",
            "Zotter                                          Kerala State   749   \n",
            "Zotter                                          Kerala State   781   \n",
            "Zotter                                    Brazil, Mitzi Blue   486   \n",
            "\n",
            "                            Review\\nDate Cocoa\\nPercent Company\\nLocation  \\\n",
            "Company \\n(Maker-if known)                                                  \n",
            "A. Morin                            2016            63%            France   \n",
            "A. Morin                            2015            70%            France   \n",
            "A. Morin                            2015            70%            France   \n",
            "A. Morin                            2015            70%            France   \n",
            "A. Morin                            2015            70%            France   \n",
            "...                                  ...            ...               ...   \n",
            "Zotter                              2011            70%           Austria   \n",
            "Zotter                              2011            65%           Austria   \n",
            "Zotter                              2011            65%           Austria   \n",
            "Zotter                              2011            62%           Austria   \n",
            "Zotter                              2010            65%           Austria   \n",
            "\n",
            "                            Rating Bean\\nType Broad Bean\\nOrigin  \n",
            "Company \\n(Maker-if known)                                        \n",
            "A. Morin                      3.75                      Sao Tome  \n",
            "A. Morin                      2.75                          Togo  \n",
            "A. Morin                      3.00                          Togo  \n",
            "A. Morin                      3.50                          Togo  \n",
            "A. Morin                      3.50                          Peru  \n",
            "...                            ...        ...                ...  \n",
            "Zotter                        3.75                          Peru  \n",
            "Zotter                        3.00  Forastero              Congo  \n",
            "Zotter                        3.50  Forastero              India  \n",
            "Zotter                        3.25                         India  \n",
            "Zotter                        3.00                        Brazil  \n",
            "\n",
            "[1795 rows x 8 columns]\n"
          ]
        }
      ],
      "source": [
        "import pandas as pd\n",
        "url = 'https://drive.google.com/file/d/18xEB6MllkwZ_pU42dt14j73Pgp3NIKLQ/view'\n",
        "url = 'https://drive.google.com/uc?id=' + url.split('/')[-2]\n",
        "data = pd.read_csv(url, index_col=0)\n",
        "print(data)"
      ]
    },
    {
      "cell_type": "markdown",
      "source": [
        "Задание 1"
      ],
      "metadata": {
        "id": "JTVep4u2IJLQ"
      }
    },
    {
      "cell_type": "code",
      "source": [
        "data.info()"
      ],
      "metadata": {
        "colab": {
          "base_uri": "https://localhost:8080/"
        },
        "id": "J712j48Rpx4E",
        "outputId": "24e42cfa-d3b3-41c6-90a4-449f75f84e1c"
      },
      "execution_count": null,
      "outputs": [
        {
          "output_type": "stream",
          "name": "stdout",
          "text": [
            "<class 'pandas.core.frame.DataFrame'>\n",
            "Index: 1795 entries, A. Morin to Zotter\n",
            "Data columns (total 8 columns):\n",
            " #   Column                            Non-Null Count  Dtype  \n",
            "---  ------                            --------------  -----  \n",
            " 0   Specific Bean Origin\n",
            "or Bar Name  1795 non-null   object \n",
            " 1   REF                               1795 non-null   int64  \n",
            " 2   Review\n",
            "Date                       1795 non-null   int64  \n",
            " 3   Cocoa\n",
            "Percent                     1795 non-null   object \n",
            " 4   Company\n",
            "Location                  1795 non-null   object \n",
            " 5   Rating                            1795 non-null   float64\n",
            " 6   Bean\n",
            "Type                         1794 non-null   object \n",
            " 7   Broad Bean\n",
            "Origin                 1794 non-null   object \n",
            "dtypes: float64(1), int64(2), object(5)\n",
            "memory usage: 126.2+ KB\n"
          ]
        }
      ]
    },
    {
      "cell_type": "code",
      "source": [
        "# 1 Количество строк и столбцов\n",
        "num_rows, num_columns = data.shape\n",
        "print(f\"Количество строк: {num_rows}, Количество столбцов: {num_columns}\")\n",
        "\n",
        "# 2 Первые 5 строк\n",
        "print(\"Первые 5 строк:\")\n",
        "print(data.head())\n",
        "\n",
        "# 3 Последние 5 строк\n",
        "print(\"Последние 5 строк:\")\n",
        "print(data.tail())\n",
        "\n",
        "# 4 Количество категориальных и числовых признаков\n",
        "num_categorical = data.select_dtypes(include=['object','category']).shape[1]  # 1 - кол-во столбцов\n",
        "num_numerical = data.select_dtypes(include=['number']).shape[1]\n",
        "print(f\"Количество категориальных признаков: {num_categorical}, Количество числовых признаков: {num_numerical}\")\n",
        "\n",
        "# 5 Размер датафрейма в МБ\n",
        "memory_usage_mb = data.memory_usage(deep=True).sum() / (1024 ** 2)   # deep=Trure для учета длины строк в типе object, далее суммирование и деление для получения МБ\n",
        "print(f\"Размер датафрейма: {memory_usage_mb:.2f} МБ\")"
      ],
      "metadata": {
        "colab": {
          "base_uri": "https://localhost:8080/"
        },
        "id": "B-CbF6r_ILZq",
        "outputId": "68b2162d-47c2-4fdf-a9ec-e3a3445d3510"
      },
      "execution_count": null,
      "outputs": [
        {
          "output_type": "stream",
          "name": "stdout",
          "text": [
            "Количество строк: 1795, Количество столбцов: 8\n",
            "Первые 5 строк:\n",
            "                           Specific Bean Origin\\nor Bar Name   REF  \\\n",
            "Company \\n(Maker-if known)                                           \n",
            "A. Morin                                         Agua Grande  1876   \n",
            "A. Morin                                               Kpime  1676   \n",
            "A. Morin                                              Atsane  1676   \n",
            "A. Morin                                               Akata  1680   \n",
            "A. Morin                                              Quilla  1704   \n",
            "\n",
            "                            Review\\nDate Cocoa\\nPercent Company\\nLocation  \\\n",
            "Company \\n(Maker-if known)                                                  \n",
            "A. Morin                            2016            63%            France   \n",
            "A. Morin                            2015            70%            France   \n",
            "A. Morin                            2015            70%            France   \n",
            "A. Morin                            2015            70%            France   \n",
            "A. Morin                            2015            70%            France   \n",
            "\n",
            "                            Rating Bean\\nType Broad Bean\\nOrigin  \n",
            "Company \\n(Maker-if known)                                        \n",
            "A. Morin                      3.75                      Sao Tome  \n",
            "A. Morin                      2.75                          Togo  \n",
            "A. Morin                      3.00                          Togo  \n",
            "A. Morin                      3.50                          Togo  \n",
            "A. Morin                      3.50                          Peru  \n",
            "Последние 5 строк:\n",
            "                           Specific Bean Origin\\nor Bar Name  REF  \\\n",
            "Company \\n(Maker-if known)                                          \n",
            "Zotter                                                  Peru  647   \n",
            "Zotter                                                 Congo  749   \n",
            "Zotter                                          Kerala State  749   \n",
            "Zotter                                          Kerala State  781   \n",
            "Zotter                                    Brazil, Mitzi Blue  486   \n",
            "\n",
            "                            Review\\nDate Cocoa\\nPercent Company\\nLocation  \\\n",
            "Company \\n(Maker-if known)                                                  \n",
            "Zotter                              2011            70%           Austria   \n",
            "Zotter                              2011            65%           Austria   \n",
            "Zotter                              2011            65%           Austria   \n",
            "Zotter                              2011            62%           Austria   \n",
            "Zotter                              2010            65%           Austria   \n",
            "\n",
            "                            Rating Bean\\nType Broad Bean\\nOrigin  \n",
            "Company \\n(Maker-if known)                                        \n",
            "Zotter                        3.75                          Peru  \n",
            "Zotter                        3.00  Forastero              Congo  \n",
            "Zotter                        3.50  Forastero              India  \n",
            "Zotter                        3.25                         India  \n",
            "Zotter                        3.00                        Brazil  \n",
            "Количество категориальных признаков: 5, Количество числовых признаков: 3\n",
            "Размер датафрейма: 0.73 МБ\n"
          ]
        }
      ]
    },
    {
      "cell_type": "markdown",
      "source": [
        "Задание 2"
      ],
      "metadata": {
        "id": "01LXXWeOmaCC"
      }
    },
    {
      "cell_type": "code",
      "source": [
        "# Функция для вычисления статистик для числовых переменных\n",
        "def statistics(data):\n",
        "    numeric_columns = data.select_dtypes(include=['number']).columns\n",
        "    stats = {}\n",
        "\n",
        "    for column in numeric_columns:\n",
        "\n",
        "        missing = data[column].isnull().mean()\n",
        "        max = data[column].max()\n",
        "        min = data[column].min()\n",
        "        mean = data[column].mean()\n",
        "        median = data[column].median()\n",
        "        variance = data[column].var()\n",
        "        Q1 = data[column].quantile(0.25)\n",
        "        Q3 = data[column].quantile(0.75)\n",
        "        IQR = Q3 - Q1\n",
        "\n",
        "        lower = Q1 - 1.5 * IQR\n",
        "        upper = Q3 + 1.5 * IQR\n",
        "        outliers = data[(data[column] < lower) | (data[column] > upper)]\n",
        "\n",
        "        stats[column] = {\n",
        "            'Доля пропусков': round(missing, 2),\n",
        "            'Максимальное значение': round(max, 2),\n",
        "            'Минимальное значение': round(min, 2),\n",
        "            'Среднее значение': round(mean, 2),\n",
        "            'Медиана': round(median, 2),\n",
        "            'Дисперсия': round(variance, 2),\n",
        "            'IQR': round(IQR, 2),\n",
        "            'Количество выбросов': outliers.shape[0]  # 0 - кол-во строк\n",
        "        }\n",
        "\n",
        "    return stats\n",
        "\n",
        "statistics = statistics(data)\n",
        "\n",
        "for column, stat in statistics.items():\n",
        "    print(f\"\\nСтатистика для переменной '{column}':\")\n",
        "    for key, value in stat.items():\n",
        "        print(f\"{key}: {value}\")"
      ],
      "metadata": {
        "colab": {
          "base_uri": "https://localhost:8080/"
        },
        "id": "ExUQqaqfmc5Z",
        "outputId": "a3aa2f75-daaa-446f-d551-c99b6cc7692f"
      },
      "execution_count": null,
      "outputs": [
        {
          "output_type": "stream",
          "name": "stdout",
          "text": [
            "\n",
            "Статистика для переменной 'REF':\n",
            "Доля пропусков: 0.0\n",
            "Максимальное значение: 1952\n",
            "Минимальное значение: 5\n",
            "Среднее значение: 1035.9\n",
            "Медиана: 1069.0\n",
            "Дисперсия: 305683.33\n",
            "IQR: 926.0\n",
            "Количество выбросов: 0\n",
            "\n",
            "Статистика для переменной 'Review\n",
            "Date':\n",
            "Доля пропусков: 0.0\n",
            "Максимальное значение: 2017\n",
            "Минимальное значение: 2006\n",
            "Среднее значение: 2012.33\n",
            "Медиана: 2013.0\n",
            "Дисперсия: 8.57\n",
            "IQR: 5.0\n",
            "Количество выбросов: 0\n",
            "\n",
            "Статистика для переменной 'Rating':\n",
            "Доля пропусков: 0.0\n",
            "Максимальное значение: 5.0\n",
            "Минимальное значение: 1.0\n",
            "Среднее значение: 3.19\n",
            "Медиана: 3.25\n",
            "Дисперсия: 0.23\n",
            "IQR: 0.62\n",
            "Количество выбросов: 19\n"
          ]
        }
      ]
    },
    {
      "cell_type": "code",
      "source": [
        "# Функция для вычисления статистик для категориальных переменных\n",
        "def categorical_statistics(data):\n",
        "    categorical_columns = data.select_dtypes(include=['object', 'category']).columns\n",
        "    stats = {}\n",
        "\n",
        "    for column in categorical_columns:\n",
        "        missing = data[column].isnull().sum()\n",
        "        missing_1 = data[column].isnull().mean()\n",
        "        unique = data[column].nunique()\n",
        "\n",
        "\n",
        "        value_counts = data[column].value_counts()\n",
        "\n",
        "        # Редкие категории < 5% от всех данных,\n",
        "        threshold = 0.05 * len(data)\n",
        "        outliers = list(value_counts[value_counts < threshold].index)\n",
        "        one_outlier = outliers[0] if outliers else \"Нет выбросов\"\n",
        "\n",
        "        stats[column] = {\n",
        "            'Кол-во пропусков': round(missing, 2),\n",
        "            'Доля пропусков': round(missing_1, 2),\n",
        "            'Количество уникальных значений': unique,\n",
        "            'Наиболее редкие категории': one_outlier\n",
        "        }\n",
        "\n",
        "    return stats\n",
        "\n",
        "statistics_result = categorical_statistics(data)\n",
        "for column, stat in statistics_result.items():\n",
        "    print(f\"\\nСтатистика для переменной '{column}':\")\n",
        "    for key, value in stat.items():\n",
        "        print(f\"{key}: {value}\")"
      ],
      "metadata": {
        "colab": {
          "base_uri": "https://localhost:8080/"
        },
        "id": "dRz_Vk9tu5LS",
        "outputId": "be1b251a-5a0c-4a28-da33-08df54af7cd4"
      },
      "execution_count": null,
      "outputs": [
        {
          "output_type": "stream",
          "name": "stdout",
          "text": [
            "\n",
            "Статистика для переменной 'Specific Bean Origin\n",
            "or Bar Name':\n",
            "Кол-во пропусков: 0\n",
            "Доля пропусков: 0.0\n",
            "Количество уникальных значений: 1039\n",
            "Наиболее редкие категории: Madagascar\n",
            "\n",
            "Статистика для переменной 'Cocoa\n",
            "Percent':\n",
            "Кол-во пропусков: 0\n",
            "Доля пропусков: 0.0\n",
            "Количество уникальных значений: 45\n",
            "Наиболее редкие категории: 65%\n",
            "\n",
            "Статистика для переменной 'Company\n",
            "Location':\n",
            "Кол-во пропусков: 0\n",
            "Доля пропусков: 0.0\n",
            "Количество уникальных значений: 60\n",
            "Наиболее редкие категории: Italy\n",
            "\n",
            "Статистика для переменной 'Bean\n",
            "Type':\n",
            "Кол-во пропусков: 1\n",
            "Доля пропусков: 0.0\n",
            "Количество уникальных значений: 41\n",
            "Наиболее редкие категории: Forastero\n",
            "\n",
            "Статистика для переменной 'Broad Bean\n",
            "Origin':\n",
            "Кол-во пропусков: 1\n",
            "Доля пропусков: 0.0\n",
            "Количество уникальных значений: 100\n",
            "Наиболее редкие категории:  \n"
          ]
        }
      ]
    },
    {
      "cell_type": "markdown",
      "source": [
        "Задача 3"
      ],
      "metadata": {
        "id": "bEGMmyy82zLK"
      }
    },
    {
      "cell_type": "code",
      "source": [
        "import plotly.express as px\n",
        "#\n",
        "country_ratings = data.groupby(\"Company\\nLocation\")[\"Rating\"].mean().reset_index()\n",
        "\n",
        "# Отбираем топ-15 стран с наивысшим средним рейтингом\n",
        "top_countries = country_ratings.nlargest(15, \"Rating\")\n",
        "\n",
        "# Строим столбчатую диаграмму\n",
        "fig = px.bar(top_countries, x=\"Company\\nLocation\", y=\"Rating\",\n",
        "             title=\"Средний рейтинг шоколада по странам-производителям\",\n",
        "             labels={\"Company_Location\": \"Страна\", \"Rating\": \"Средний рейтинг\"},\n",
        "             template=\"plotly_dark\", color=\"Rating\", color_continuous_scale=\"viridis\")\n",
        "\n",
        "fig.show()\n",
        "\n",
        "highest_rated_country = top_countries.iloc[0]\n",
        "lowest_rated_country = top_countries.iloc[-1]\n",
        "\n",
        "print(highest_rated_country[\"Company\\nLocation\"])\n",
        "print(\"Рейтинг саамой популярной страны:\", round(highest_rated_country[\"Rating\"], 2))\n",
        "print(lowest_rated_country[\"Company\\nLocation\"])\n",
        "print(\"Рейтинг саамой непопулярной страны:\", round(lowest_rated_country[\"Rating\"], 2))"
      ],
      "metadata": {
        "colab": {
          "base_uri": "https://localhost:8080/",
          "height": 611
        },
        "id": "QiA9VUtw20-d",
        "outputId": "f9d00754-f31a-4eb6-924c-f4383e424a12"
      },
      "execution_count": null,
      "outputs": [
        {
          "output_type": "display_data",
          "data": {
            "text/html": [
              "<html>\n",
              "<head><meta charset=\"utf-8\" /></head>\n",
              "<body>\n",
              "    <div>            <script src=\"https://cdnjs.cloudflare.com/ajax/libs/mathjax/2.7.5/MathJax.js?config=TeX-AMS-MML_SVG\"></script><script type=\"text/javascript\">if (window.MathJax && window.MathJax.Hub && window.MathJax.Hub.Config) {window.MathJax.Hub.Config({SVG: {font: \"STIX-Web\"}});}</script>                <script type=\"text/javascript\">window.PlotlyConfig = {MathJaxConfig: 'local'};</script>\n",
              "        <script charset=\"utf-8\" src=\"https://cdn.plot.ly/plotly-2.35.2.min.js\"></script>                <div id=\"8f59004e-b615-415f-ab94-aa203386c552\" class=\"plotly-graph-div\" style=\"height:525px; width:100%;\"></div>            <script type=\"text/javascript\">                                    window.PLOTLYENV=window.PLOTLYENV || {};                                    if (document.getElementById(\"8f59004e-b615-415f-ab94-aa203386c552\")) {                    Plotly.newPlot(                        \"8f59004e-b615-415f-ab94-aa203386c552\",                        [{\"alignmentgroup\":\"True\",\"hovertemplate\":\"Company\\nLocation=%{x}\\u003cbr\\u003eСредний рейтинг=%{marker.color}\\u003cextra\\u003e\\u003c\\u002fextra\\u003e\",\"legendgroup\":\"\",\"marker\":{\"color\":[3.75,3.5,3.5,3.5,3.4166666666666665,3.409090909090909,3.3970588235294117,3.375,3.357142857142857,3.35,3.3421052631578947,3.3333333333333335,3.3253968253968256,3.325,3.324],\"coloraxis\":\"coloraxis\",\"pattern\":{\"shape\":\"\"}},\"name\":\"\",\"offsetgroup\":\"\",\"orientation\":\"v\",\"showlegend\":false,\"textposition\":\"auto\",\"x\":[\"Chile\",\"Amsterdam\",\"Netherlands\",\"Philippines\",\"Iceland\",\"Vietnam\",\"Brazil\",\"Poland\",\"Australia\",\"Guatemala\",\"Switzerland\",\"Singapore\",\"Italy\",\"Scotland\",\"Canada\"],\"xaxis\":\"x\",\"y\":[3.75,3.5,3.5,3.5,3.4166666666666665,3.409090909090909,3.3970588235294117,3.375,3.357142857142857,3.35,3.3421052631578947,3.3333333333333335,3.3253968253968256,3.325,3.324],\"yaxis\":\"y\",\"type\":\"bar\"}],                        {\"template\":{\"data\":{\"barpolar\":[{\"marker\":{\"line\":{\"color\":\"rgb(17,17,17)\",\"width\":0.5},\"pattern\":{\"fillmode\":\"overlay\",\"size\":10,\"solidity\":0.2}},\"type\":\"barpolar\"}],\"bar\":[{\"error_x\":{\"color\":\"#f2f5fa\"},\"error_y\":{\"color\":\"#f2f5fa\"},\"marker\":{\"line\":{\"color\":\"rgb(17,17,17)\",\"width\":0.5},\"pattern\":{\"fillmode\":\"overlay\",\"size\":10,\"solidity\":0.2}},\"type\":\"bar\"}],\"carpet\":[{\"aaxis\":{\"endlinecolor\":\"#A2B1C6\",\"gridcolor\":\"#506784\",\"linecolor\":\"#506784\",\"minorgridcolor\":\"#506784\",\"startlinecolor\":\"#A2B1C6\"},\"baxis\":{\"endlinecolor\":\"#A2B1C6\",\"gridcolor\":\"#506784\",\"linecolor\":\"#506784\",\"minorgridcolor\":\"#506784\",\"startlinecolor\":\"#A2B1C6\"},\"type\":\"carpet\"}],\"choropleth\":[{\"colorbar\":{\"outlinewidth\":0,\"ticks\":\"\"},\"type\":\"choropleth\"}],\"contourcarpet\":[{\"colorbar\":{\"outlinewidth\":0,\"ticks\":\"\"},\"type\":\"contourcarpet\"}],\"contour\":[{\"colorbar\":{\"outlinewidth\":0,\"ticks\":\"\"},\"colorscale\":[[0.0,\"#0d0887\"],[0.1111111111111111,\"#46039f\"],[0.2222222222222222,\"#7201a8\"],[0.3333333333333333,\"#9c179e\"],[0.4444444444444444,\"#bd3786\"],[0.5555555555555556,\"#d8576b\"],[0.6666666666666666,\"#ed7953\"],[0.7777777777777778,\"#fb9f3a\"],[0.8888888888888888,\"#fdca26\"],[1.0,\"#f0f921\"]],\"type\":\"contour\"}],\"heatmapgl\":[{\"colorbar\":{\"outlinewidth\":0,\"ticks\":\"\"},\"colorscale\":[[0.0,\"#0d0887\"],[0.1111111111111111,\"#46039f\"],[0.2222222222222222,\"#7201a8\"],[0.3333333333333333,\"#9c179e\"],[0.4444444444444444,\"#bd3786\"],[0.5555555555555556,\"#d8576b\"],[0.6666666666666666,\"#ed7953\"],[0.7777777777777778,\"#fb9f3a\"],[0.8888888888888888,\"#fdca26\"],[1.0,\"#f0f921\"]],\"type\":\"heatmapgl\"}],\"heatmap\":[{\"colorbar\":{\"outlinewidth\":0,\"ticks\":\"\"},\"colorscale\":[[0.0,\"#0d0887\"],[0.1111111111111111,\"#46039f\"],[0.2222222222222222,\"#7201a8\"],[0.3333333333333333,\"#9c179e\"],[0.4444444444444444,\"#bd3786\"],[0.5555555555555556,\"#d8576b\"],[0.6666666666666666,\"#ed7953\"],[0.7777777777777778,\"#fb9f3a\"],[0.8888888888888888,\"#fdca26\"],[1.0,\"#f0f921\"]],\"type\":\"heatmap\"}],\"histogram2dcontour\":[{\"colorbar\":{\"outlinewidth\":0,\"ticks\":\"\"},\"colorscale\":[[0.0,\"#0d0887\"],[0.1111111111111111,\"#46039f\"],[0.2222222222222222,\"#7201a8\"],[0.3333333333333333,\"#9c179e\"],[0.4444444444444444,\"#bd3786\"],[0.5555555555555556,\"#d8576b\"],[0.6666666666666666,\"#ed7953\"],[0.7777777777777778,\"#fb9f3a\"],[0.8888888888888888,\"#fdca26\"],[1.0,\"#f0f921\"]],\"type\":\"histogram2dcontour\"}],\"histogram2d\":[{\"colorbar\":{\"outlinewidth\":0,\"ticks\":\"\"},\"colorscale\":[[0.0,\"#0d0887\"],[0.1111111111111111,\"#46039f\"],[0.2222222222222222,\"#7201a8\"],[0.3333333333333333,\"#9c179e\"],[0.4444444444444444,\"#bd3786\"],[0.5555555555555556,\"#d8576b\"],[0.6666666666666666,\"#ed7953\"],[0.7777777777777778,\"#fb9f3a\"],[0.8888888888888888,\"#fdca26\"],[1.0,\"#f0f921\"]],\"type\":\"histogram2d\"}],\"histogram\":[{\"marker\":{\"pattern\":{\"fillmode\":\"overlay\",\"size\":10,\"solidity\":0.2}},\"type\":\"histogram\"}],\"mesh3d\":[{\"colorbar\":{\"outlinewidth\":0,\"ticks\":\"\"},\"type\":\"mesh3d\"}],\"parcoords\":[{\"line\":{\"colorbar\":{\"outlinewidth\":0,\"ticks\":\"\"}},\"type\":\"parcoords\"}],\"pie\":[{\"automargin\":true,\"type\":\"pie\"}],\"scatter3d\":[{\"line\":{\"colorbar\":{\"outlinewidth\":0,\"ticks\":\"\"}},\"marker\":{\"colorbar\":{\"outlinewidth\":0,\"ticks\":\"\"}},\"type\":\"scatter3d\"}],\"scattercarpet\":[{\"marker\":{\"colorbar\":{\"outlinewidth\":0,\"ticks\":\"\"}},\"type\":\"scattercarpet\"}],\"scattergeo\":[{\"marker\":{\"colorbar\":{\"outlinewidth\":0,\"ticks\":\"\"}},\"type\":\"scattergeo\"}],\"scattergl\":[{\"marker\":{\"line\":{\"color\":\"#283442\"}},\"type\":\"scattergl\"}],\"scattermapbox\":[{\"marker\":{\"colorbar\":{\"outlinewidth\":0,\"ticks\":\"\"}},\"type\":\"scattermapbox\"}],\"scatterpolargl\":[{\"marker\":{\"colorbar\":{\"outlinewidth\":0,\"ticks\":\"\"}},\"type\":\"scatterpolargl\"}],\"scatterpolar\":[{\"marker\":{\"colorbar\":{\"outlinewidth\":0,\"ticks\":\"\"}},\"type\":\"scatterpolar\"}],\"scatter\":[{\"marker\":{\"line\":{\"color\":\"#283442\"}},\"type\":\"scatter\"}],\"scatterternary\":[{\"marker\":{\"colorbar\":{\"outlinewidth\":0,\"ticks\":\"\"}},\"type\":\"scatterternary\"}],\"surface\":[{\"colorbar\":{\"outlinewidth\":0,\"ticks\":\"\"},\"colorscale\":[[0.0,\"#0d0887\"],[0.1111111111111111,\"#46039f\"],[0.2222222222222222,\"#7201a8\"],[0.3333333333333333,\"#9c179e\"],[0.4444444444444444,\"#bd3786\"],[0.5555555555555556,\"#d8576b\"],[0.6666666666666666,\"#ed7953\"],[0.7777777777777778,\"#fb9f3a\"],[0.8888888888888888,\"#fdca26\"],[1.0,\"#f0f921\"]],\"type\":\"surface\"}],\"table\":[{\"cells\":{\"fill\":{\"color\":\"#506784\"},\"line\":{\"color\":\"rgb(17,17,17)\"}},\"header\":{\"fill\":{\"color\":\"#2a3f5f\"},\"line\":{\"color\":\"rgb(17,17,17)\"}},\"type\":\"table\"}]},\"layout\":{\"annotationdefaults\":{\"arrowcolor\":\"#f2f5fa\",\"arrowhead\":0,\"arrowwidth\":1},\"autotypenumbers\":\"strict\",\"coloraxis\":{\"colorbar\":{\"outlinewidth\":0,\"ticks\":\"\"}},\"colorscale\":{\"diverging\":[[0,\"#8e0152\"],[0.1,\"#c51b7d\"],[0.2,\"#de77ae\"],[0.3,\"#f1b6da\"],[0.4,\"#fde0ef\"],[0.5,\"#f7f7f7\"],[0.6,\"#e6f5d0\"],[0.7,\"#b8e186\"],[0.8,\"#7fbc41\"],[0.9,\"#4d9221\"],[1,\"#276419\"]],\"sequential\":[[0.0,\"#0d0887\"],[0.1111111111111111,\"#46039f\"],[0.2222222222222222,\"#7201a8\"],[0.3333333333333333,\"#9c179e\"],[0.4444444444444444,\"#bd3786\"],[0.5555555555555556,\"#d8576b\"],[0.6666666666666666,\"#ed7953\"],[0.7777777777777778,\"#fb9f3a\"],[0.8888888888888888,\"#fdca26\"],[1.0,\"#f0f921\"]],\"sequentialminus\":[[0.0,\"#0d0887\"],[0.1111111111111111,\"#46039f\"],[0.2222222222222222,\"#7201a8\"],[0.3333333333333333,\"#9c179e\"],[0.4444444444444444,\"#bd3786\"],[0.5555555555555556,\"#d8576b\"],[0.6666666666666666,\"#ed7953\"],[0.7777777777777778,\"#fb9f3a\"],[0.8888888888888888,\"#fdca26\"],[1.0,\"#f0f921\"]]},\"colorway\":[\"#636efa\",\"#EF553B\",\"#00cc96\",\"#ab63fa\",\"#FFA15A\",\"#19d3f3\",\"#FF6692\",\"#B6E880\",\"#FF97FF\",\"#FECB52\"],\"font\":{\"color\":\"#f2f5fa\"},\"geo\":{\"bgcolor\":\"rgb(17,17,17)\",\"lakecolor\":\"rgb(17,17,17)\",\"landcolor\":\"rgb(17,17,17)\",\"showlakes\":true,\"showland\":true,\"subunitcolor\":\"#506784\"},\"hoverlabel\":{\"align\":\"left\"},\"hovermode\":\"closest\",\"mapbox\":{\"style\":\"dark\"},\"paper_bgcolor\":\"rgb(17,17,17)\",\"plot_bgcolor\":\"rgb(17,17,17)\",\"polar\":{\"angularaxis\":{\"gridcolor\":\"#506784\",\"linecolor\":\"#506784\",\"ticks\":\"\"},\"bgcolor\":\"rgb(17,17,17)\",\"radialaxis\":{\"gridcolor\":\"#506784\",\"linecolor\":\"#506784\",\"ticks\":\"\"}},\"scene\":{\"xaxis\":{\"backgroundcolor\":\"rgb(17,17,17)\",\"gridcolor\":\"#506784\",\"gridwidth\":2,\"linecolor\":\"#506784\",\"showbackground\":true,\"ticks\":\"\",\"zerolinecolor\":\"#C8D4E3\"},\"yaxis\":{\"backgroundcolor\":\"rgb(17,17,17)\",\"gridcolor\":\"#506784\",\"gridwidth\":2,\"linecolor\":\"#506784\",\"showbackground\":true,\"ticks\":\"\",\"zerolinecolor\":\"#C8D4E3\"},\"zaxis\":{\"backgroundcolor\":\"rgb(17,17,17)\",\"gridcolor\":\"#506784\",\"gridwidth\":2,\"linecolor\":\"#506784\",\"showbackground\":true,\"ticks\":\"\",\"zerolinecolor\":\"#C8D4E3\"}},\"shapedefaults\":{\"line\":{\"color\":\"#f2f5fa\"}},\"sliderdefaults\":{\"bgcolor\":\"#C8D4E3\",\"bordercolor\":\"rgb(17,17,17)\",\"borderwidth\":1,\"tickwidth\":0},\"ternary\":{\"aaxis\":{\"gridcolor\":\"#506784\",\"linecolor\":\"#506784\",\"ticks\":\"\"},\"baxis\":{\"gridcolor\":\"#506784\",\"linecolor\":\"#506784\",\"ticks\":\"\"},\"bgcolor\":\"rgb(17,17,17)\",\"caxis\":{\"gridcolor\":\"#506784\",\"linecolor\":\"#506784\",\"ticks\":\"\"}},\"title\":{\"x\":0.05},\"updatemenudefaults\":{\"bgcolor\":\"#506784\",\"borderwidth\":0},\"xaxis\":{\"automargin\":true,\"gridcolor\":\"#283442\",\"linecolor\":\"#506784\",\"ticks\":\"\",\"title\":{\"standoff\":15},\"zerolinecolor\":\"#283442\",\"zerolinewidth\":2},\"yaxis\":{\"automargin\":true,\"gridcolor\":\"#283442\",\"linecolor\":\"#506784\",\"ticks\":\"\",\"title\":{\"standoff\":15},\"zerolinecolor\":\"#283442\",\"zerolinewidth\":2}}},\"xaxis\":{\"anchor\":\"y\",\"domain\":[0.0,1.0],\"title\":{\"text\":\"Company\\nLocation\"}},\"yaxis\":{\"anchor\":\"x\",\"domain\":[0.0,1.0],\"title\":{\"text\":\"Средний рейтинг\"}},\"coloraxis\":{\"colorbar\":{\"title\":{\"text\":\"Средний рейтинг\"}},\"colorscale\":[[0.0,\"#440154\"],[0.1111111111111111,\"#482878\"],[0.2222222222222222,\"#3e4989\"],[0.3333333333333333,\"#31688e\"],[0.4444444444444444,\"#26828e\"],[0.5555555555555556,\"#1f9e89\"],[0.6666666666666666,\"#35b779\"],[0.7777777777777778,\"#6ece58\"],[0.8888888888888888,\"#b5de2b\"],[1.0,\"#fde725\"]]},\"legend\":{\"tracegroupgap\":0},\"title\":{\"text\":\"Средний рейтинг шоколада по странам-производителям\"},\"barmode\":\"relative\"},                        {\"responsive\": true}                    ).then(function(){\n",
              "                            \n",
              "var gd = document.getElementById('8f59004e-b615-415f-ab94-aa203386c552');\n",
              "var x = new MutationObserver(function (mutations, observer) {{\n",
              "        var display = window.getComputedStyle(gd).display;\n",
              "        if (!display || display === 'none') {{\n",
              "            console.log([gd, 'removed!']);\n",
              "            Plotly.purge(gd);\n",
              "            observer.disconnect();\n",
              "        }}\n",
              "}});\n",
              "\n",
              "// Listen for the removal of the full notebook cells\n",
              "var notebookContainer = gd.closest('#notebook-container');\n",
              "if (notebookContainer) {{\n",
              "    x.observe(notebookContainer, {childList: true});\n",
              "}}\n",
              "\n",
              "// Listen for the clearing of the current output cell\n",
              "var outputEl = gd.closest('.output');\n",
              "if (outputEl) {{\n",
              "    x.observe(outputEl, {childList: true});\n",
              "}}\n",
              "\n",
              "                        })                };                            </script>        </div>\n",
              "</body>\n",
              "</html>"
            ]
          },
          "metadata": {}
        },
        {
          "output_type": "stream",
          "name": "stdout",
          "text": [
            "Chile\n",
            "Рейтинг саамой популярной страны: 3.75\n",
            "Canada\n",
            "Рейтинг саамой непопулярной страны: 3.32\n"
          ]
        }
      ]
    },
    {
      "cell_type": "code",
      "source": [
        "import seaborn as sns\n",
        "import matplotlib.pyplot as plt\n",
        "\n",
        "ratings = data[\"Rating\"]\n",
        "Q1 = ratings.quantile(0.25)\n",
        "Q3 = ratings.quantile(0.75)\n",
        "IQR = Q3 - Q1\n",
        "\n",
        "lower_bound = Q1 - 1.5 * IQR\n",
        "upper_bound = Q3 + 1.5 * IQR\n",
        "\n",
        "outliers = data[(ratings < lower_bound) | (ratings > upper_bound)]\n",
        "\n",
        "print(\"Анализ выбросов по рейтингу шоколада:\")\n",
        "print(f\"Нижняя граница: {round(lower_bound, 2)}\")\n",
        "print(f\"Верхняя граница: {round(upper_bound, 2)}\")\n",
        "print(f\"Выбросов: {len(outliers)}\")\n",
        "\n",
        "plt.figure(figsize=(8, 5))\n",
        "sns.boxplot(y=data[\"Rating\"], color=\"lightblue\", width=0.3)\n",
        "plt.title(\"Boxplot рейтинга шоколада\")\n",
        "plt.ylabel(\"Рейтинг\")\n",
        "plt.grid(True)\n",
        "\n",
        "plt.show()"
      ],
      "metadata": {
        "colab": {
          "base_uri": "https://localhost:8080/",
          "height": 518
        },
        "id": "GZKjSOUfhHcV",
        "outputId": "2b6a863c-a389-4772-c484-4b6915ec7474"
      },
      "execution_count": null,
      "outputs": [
        {
          "output_type": "stream",
          "name": "stdout",
          "text": [
            "Анализ выбросов по рейтингу шоколада:\n",
            "Нижняя граница: 1.94\n",
            "Верхняя граница: 4.44\n",
            "Выбросов: 19\n"
          ]
        },
        {
          "output_type": "display_data",
          "data": {
            "text/plain": [
              "<Figure size 800x500 with 1 Axes>"
            ],
            "image/png": "[encoded data removed]"
          },
          "metadata": {}
        }
      ]
    },
    {
      "cell_type": "markdown",
      "source": [
        "Задача 4"
      ],
      "metadata": {
        "id": "LBEUhZrTdqtd"
      }
    },
    {
      "cell_type": "markdown",
      "source": [
        "**Рейтинг шоколада и содержание какао**\n",
        "\n",
        "Нулевая гипотеза (H0): Средний рейтинг шоколада с содержанием какао 70% и выше **равен** среднему рейтингу шоколада с содержанием какао ниже 70%\n",
        "\n",
        "Альтернативная гипотеза (H1): Средний рейтинг шоколада с содержанием какао 70% и выше **отличается** от среднего рейтинга шоколада с содержанием какао ниже 70%\n",
        "\n",
        "Для проверки данной гипотезы можно использовать t-тест для независимых выборок или к. Манна-Уитни, так как сравниваются средние значения двух независимых групп (шоколад с содержанием какао 70% и выше/шоколад с содержанием какао ниже 70%). Для выбора подходящего метода проведем проверку на нормальность.\n",
        "\n"
      ],
      "metadata": {
        "id": "c5NL3xaUesYr"
      }
    },
    {
      "cell_type": "code",
      "source": [
        "import scipy.stats as stats\n",
        "\n",
        "# Преобразование столбца с процентами какао в числовой формат\n",
        "data['Cocoa\\nPercent'] = data['Cocoa\\nPercent'].astype(str).str.rstrip('%').astype(float)\n",
        "\n",
        "# Фильтрация данных по содержанию какао\n",
        "high_cocoa = data[data['Cocoa\\nPercent'] >= 70]['Rating']\n",
        "low_cocoa = data[data['Cocoa\\nPercent'] < 70]['Rating']\n",
        "\n",
        "# Проверка нормальности\n",
        "shapiro_high = stats.shapiro(high_cocoa)\n",
        "shapiro_low = stats.shapiro(low_cocoa)\n",
        "\n",
        "print(f\"Shapiro-Wilk test (high cocoa): W = {shapiro_high.statistic}, p = {shapiro_high.pvalue}\")\n",
        "print(f\"Shapiro-Wilk test (low cocoa): W = {shapiro_low.statistic}, p = {shapiro_low.pvalue}\")\n",
        "\n",
        "alpha = 0.05\n",
        "if shapiro_high.pvalue < alpha or shapiro_low.pvalue < alpha:\n",
        "    print(\"Хотя бы одно распределение не является нормальным. Используем тест Манна-Уитни.\")\n",
        "    test_stat, p_value = stats.mannwhitneyu(high_cocoa, low_cocoa, alternative='two-sided')\n",
        "else:\n",
        "    print(\"Оба распределения нормальны. Используем T-тест.\")\n",
        "    test_stat, p_value = stats.ttest_ind(high_cocoa, low_cocoa)\n",
        "\n",
        "print(f\"Тест: статистика = {test_stat}, p-значение = {p_value}\")\n",
        "if p_value < alpha:\n",
        "    print(\"Отвергаем нулевую гипотезу: средние рейтинги различаются\")\n",
        "else:\n",
        "    print(\"Не отвергаем нулевую гипотезу: средние рейтинги не различаются\")\n"
      ],
      "metadata": {
        "colab": {
          "base_uri": "https://localhost:8080/"
        },
        "id": "hf7X7F3idyZY",
        "outputId": "742ce2e3-1a79-4a0d-e966-ffa204359db8"
      },
      "execution_count": null,
      "outputs": [
        {
          "output_type": "stream",
          "name": "stdout",
          "text": [
            "Shapiro-Wilk test (high cocoa): W = 0.9490966500642096, p = 3.981913676745924e-22\n",
            "Shapiro-Wilk test (low cocoa): W = 0.9535331047020319, p = 1.1282847617904424e-08\n",
            "Хотя бы одно распределение не является нормальным. Используем тест Манна-Уитни.\n",
            "Тест: статистика = 240993.5, p-значение = 0.961407634195806\n",
            "Не отвергаем нулевую гипотезу: средние рейтинги не различаются\n"
          ]
        }
      ]
    },
    {
      "cell_type": "markdown",
      "source": [
        "**Зависимость между страной происхождения какао и рейтингом шоколада**\n",
        "\n",
        "Нулевая гипотеза (H0): **Нет зависимости** между страной происхождения какао и рейтингом шоколада\n",
        "\n",
        "Альтернативная гипотеза (H1): **Существует зависимость** между страной происхождения какао и рейтингом шоколада\n",
        "\n",
        "Для проверки данной гипотезы мы можем использовать дисперсионный анализ для повторяющихся наблюдений (ANOVA), так как мы сравниваем средние значения рейтинга для нескольких повторяющихся групп странб, либо тест Крускала-Уоллиса, если распределение не нормальное."
      ],
      "metadata": {
        "id": "kM5KuZO0kVTp"
      }
    },
    {
      "cell_type": "code",
      "source": [
        "# Выберем топ-5 стран по количеству записей для большей репрезентативности данных\n",
        "top_countries = data['Broad Bean\\nOrigin'].value_counts().nlargest(5).index\n",
        "filtered_data = data[data['Broad Bean\\nOrigin'].isin(top_countries)]\n",
        "\n",
        "normality_results = {}\n",
        "\n",
        "print(\"Проверка нормальности распределения рейтингов для каждой страны:\")\n",
        "for country in top_countries:\n",
        "    ratings = filtered_data[filtered_data['Broad Bean\\nOrigin'] == country]['Rating']\n",
        "    stat, p = stats.shapiro(ratings)\n",
        "    normality_results[country] = p\n",
        "    print(f\"{country}: W = {stat:.4f}, p-value = {p:.4f}\")\n",
        "\n",
        "if any(p < 0.05 for p in normality_results.values()):\n",
        "    print(\"\\nХотя бы в одной группе распределение не является нормальным. Используем  тест Крускала-Уоллиса.\")\n",
        "    f_stat, p_value = stats.kruskal(*[filtered_data[filtered_data['Broad Bean\\nOrigin'] == country]['Rating'] for country in top_countries])\n",
        "else:\n",
        "    print(\"\\nВсе группы соответствуют нормальному распределению. Используем ANOVA.\")\n",
        "    f_stat, p_value = stats.f_oneway(*[filtered_data[filtered_data['Broad Bean\\nOrigin'] == country]['Rating'] for country in top_countries])\n",
        "\n",
        "print(f\"\\nСтатистика = {f_stat:.4f}, p-значение = {p_value:.4f}\")\n",
        "\n",
        "if p_value < 0.05:\n",
        "    print(\"Отвергаем нулевую гипотезу: существует зависимость между страной происхождения и рейтингом.\")\n",
        "else:\n",
        "    print(\"Не отвергаем нулевую гипотезу: зависимость между страной происхождения и рейтингом не обнаружена.\")"
      ],
      "metadata": {
        "colab": {
          "base_uri": "https://localhost:8080/"
        },
        "id": "Ml5kjB2bnRrm",
        "outputId": "94071d89-34a7-442b-8c64-d70a9861fbb3"
      },
      "execution_count": null,
      "outputs": [
        {
          "output_type": "stream",
          "name": "stdout",
          "text": [
            "Проверка нормальности распределения рейтингов для каждой страны:\n",
            "Venezuela: W = 0.9596, p-value = 0.0000\n",
            "Ecuador: W = 0.9288, p-value = 0.0000\n",
            "Peru: W = 0.9598, p-value = 0.0001\n",
            "Madagascar: W = 0.9439, p-value = 0.0000\n",
            "Dominican Republic: W = 0.9393, p-value = 0.0000\n",
            "\n",
            "Хотя бы в одной группе распределение не является нормальным. Используем  тест Крускала-Уоллиса.\n",
            "\n",
            "Статистика = 7.7815, p-значение = 0.0999\n",
            "Не отвергаем нулевую гипотезу: зависимость между страной происхождения и рейтингом не обнаружена.\n"
          ]
        }
      ]
    },
    {
      "cell_type": "code",
      "source": [
        "print(repr(data.columns.tolist()))\n"
      ],
      "metadata": {
        "colab": {
          "base_uri": "https://localhost:8080/"
        },
        "id": "vBBHVwZuoEDK",
        "outputId": "9e59e043-7a4e-421c-c29d-a0f85dde9028"
      },
      "execution_count": null,
      "outputs": [
        {
          "output_type": "stream",
          "name": "stdout",
          "text": [
            "['Specific Bean Origin\\nor Bar Name', 'REF', 'Review\\nDate', 'Cocoa\\nPercent', 'Company\\nLocation', 'Rating', 'Bean\\nType', 'Broad Bean\\nOrigin']\n"
          ]
        }
      ]
    }
  ]
}
